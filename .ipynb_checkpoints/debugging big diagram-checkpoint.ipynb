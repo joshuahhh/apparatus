{
 "cells": [
  {
   "cell_type": "code",
   "execution_count": 1,
   "metadata": {
    "collapsed": true
   },
   "outputs": [],
   "source": [
    "import ujson"
   ]
  },
  {
   "cell_type": "code",
   "execution_count": 4,
   "metadata": {
    "collapsed": false
   },
   "outputs": [],
   "source": [
    "good = ujson.load(open('GOOD.json'))\n",
    "bad = ujson.load(open('BAD.json'))"
   ]
  },
  {
   "cell_type": "code",
   "execution_count": 11,
   "metadata": {
    "collapsed": false
   },
   "outputs": [
    {
     "data": {
      "text/plain": [
       "{u'__proto': {u'__ref': u'Group'},\n",
       " u'_children': [{u'__ref': u'idz7e23yiiknmvakdx'},\n",
       "  {u'__ref': u'iduc4j20iiknn0ude3'},\n",
       "  {u'__ref': u'ide0gt7hiiknn4p5ei'},\n",
       "  {u'__ref': u'id8w35n7iiknnbzeex'},\n",
       "  {u'__ref': u'idjc3sjhiiknnj70lk'}],\n",
       " u'_head': {u'__ref': u'idr0tbj9iiknmva8dw'},\n",
       " u'_isHatched': True,\n",
       " u'_master': {u'__ref': u'Group'},\n",
       " u'_parent': None,\n",
       " u'_variants': [],\n",
       " u'expanded': True,\n",
       " u'id': u'idr0tbj9iiknmva8dw',\n",
       " u'label': u'L4',\n",
       " u'viewMatrix': {u'__ref': u'id42ymhiiiknnr66s8'}}"
      ]
     },
     "execution_count": 11,
     "metadata": {},
     "output_type": "execute_result"
    }
   ],
   "source": [
    "good['objects'][good['objects'][good['root']['__ref']]['editingElement']['__ref']]"
   ]
  },
  {
   "cell_type": "code",
   "execution_count": 12,
   "metadata": {
    "collapsed": false
   },
   "outputs": [
    {
     "data": {
      "text/plain": [
       "True"
      ]
     },
     "execution_count": 12,
     "metadata": {},
     "output_type": "execute_result"
    }
   ],
   "source": [
    "'a' in {'a': 3}"
   ]
  },
  {
   "cell_type": "raw",
   "metadata": {},
   "source": []
  },
  {
   "cell_type": "code",
   "execution_count": 165,
   "metadata": {
    "collapsed": false
   },
   "outputs": [
    {
     "data": {
      "text/plain": [
       "True"
      ]
     },
     "execution_count": 165,
     "metadata": {},
     "output_type": "execute_result"
    }
   ],
   "source": [
    "not []"
   ]
  },
  {
   "cell_type": "code",
   "execution_count": 244,
   "metadata": {
    "collapsed": false
   },
   "outputs": [],
   "source": [
    "from pprint import pformat\n",
    "\n",
    "class AprtusSerialized(object):    \n",
    "    def __init__(self, save_file_obj, cur_obj=None):\n",
    "        self.save_file_obj = save_file_obj\n",
    "        if cur_obj is None:\n",
    "            cur_obj = self.save_file_obj['root']\n",
    "        \n",
    "        if '__ref' in cur_obj:\n",
    "            self.ref = cur_obj['__ref']\n",
    "            if self.ref in self.save_file_obj['objects']:\n",
    "                cur_obj = self.save_file_obj['objects'][self.ref]\n",
    "            else:\n",
    "                cur_obj = AprtusExternalRef(self.ref)\n",
    "\n",
    "        self.cur_obj = cur_obj\n",
    "    \n",
    "    @classmethod\n",
    "    def from_ref(cls, save_file_obj, ref):\n",
    "        return cls(save_file_obj, {'__ref': ref})\n",
    "    \n",
    "    def val(self):\n",
    "        return self.cur_obj\n",
    "    \n",
    "    def __getitem__(self, key):\n",
    "        return AprtusSerialized(self.save_file_obj, self.cur_obj[key])\n",
    "    \n",
    "    def __contains__(self, key):\n",
    "        return key in self.cur_obj\n",
    "    \n",
    "    def get(self, key, default=None):\n",
    "        return self[key] if key in self else default            \n",
    "    \n",
    "    def __iter__(self):\n",
    "        return (AprtusSerialized(self.save_file_obj, val) for val in self.cur_obj)\n",
    "    \n",
    "    def __repr__(self):\n",
    "        return '<AprtusSerialized wrapping:>\\n%s' % pformat(self.cur_obj)\n",
    "\n",
    "    def lookup_property(self, property_name):\n",
    "        if property_name in self.cur_obj:\n",
    "            return self.cur_obj[property_name]\n",
    "        elif self.get('__proto'):\n",
    "            return self['__proto'].lookup_property(property_name)\n",
    "        else:\n",
    "            return None\n",
    "    \n",
    "    def root_proto(self):\n",
    "        if self.get('__proto'):\n",
    "            return self['__proto'].root_proto()\n",
    "        else:\n",
    "            return self\n",
    "    \n",
    "    def root_proto_ref(self):\n",
    "        return self.root_proto().val().ref\n",
    "\n",
    "class AprtusExternalRef(object):\n",
    "    def __init__(self, ref):\n",
    "        self.ref = ref\n",
    "\n",
    "    def __contains__(self, key):\n",
    "        return False\n",
    "    \n",
    "    def __repr__(self):\n",
    "        return '<External ref: %s>' % self.ref\n",
    "\n",
    "goods = AprtusSerialized(good)\n",
    "bads = AprtusSerialized(bad)\n",
    "\n",
    "def simplify(node):\n",
    "    to_return = []\n",
    "    to_return.append(node.root_proto_ref())\n",
    "    if '_children' in node:\n",
    "        for child in node['_children']:\n",
    "            to_return.append(simplify(child))\n",
    "    return to_return\n",
    "\n",
    "def descendents(node):\n",
    "    to_return = [node.ref]\n",
    "    if '_children' in node:\n",
    "        for child in node['_children']:\n",
    "            to_return.extend(descendents(child))\n",
    "    return to_return"
   ]
  },
  {
   "cell_type": "code",
   "execution_count": 233,
   "metadata": {
    "collapsed": false
   },
   "outputs": [
    {
     "name": "stdout",
     "output_type": "stream",
     "text": [
      "TOTAL OBJECT COUNT\n",
      "999\n",
      "6101\n",
      "DESCENDENTS OF TOP-LEVEL OBJECTS\n",
      "[1, 1, 1, 34, 102, 238, 510] 510\n",
      "[1, 1, 1, 34, 102, 238, 510] 510\n",
      "UNIONED\n",
      "887\n",
      "887\n"
     ]
    }
   ],
   "source": [
    "print 'TOTAL OBJECT COUNT'\n",
    "print len(good['objects'])\n",
    "print len(bad['objects'])\n",
    "\n",
    "print 'DESCENDENTS OF TOP-LEVEL OBJECTS'\n",
    "print [len(descendents(elem)) for elem in goods['createPanelElements']], len(descendents(goods['editingElement']))\n",
    "print [len(descendents(elem)) for elem in bads['createPanelElements']], len(descendents(bads['editingElement']))\n",
    "\n",
    "print 'UNIONED'\n",
    "known_good = set.union(set(descendents(goods['editingElement'])), *(set(descendents(elem)) for elem in goods['createPanelElements']))\n",
    "known_bad = set.union(set(descendents(bads['editingElement'])), *(set(descendents(elem)) for elem in bads['createPanelElements']))\n",
    "print len(known_good)\n",
    "print len(known_bad)"
   ]
  },
  {
   "cell_type": "code",
   "execution_count": 221,
   "metadata": {
    "collapsed": false
   },
   "outputs": [
    {
     "data": {
      "text/plain": [
       "u'Transform'"
      ]
     },
     "execution_count": 221,
     "metadata": {},
     "output_type": "execute_result"
    }
   ],
   "source": [
    "rand = random.choice(list(set(good['objects'].keys()) - known_good))\n",
    "AprtusSerialized.from_ref(good, rand).root_proto_ref()"
   ]
  },
  {
   "cell_type": "code",
   "execution_count": 226,
   "metadata": {
    "collapsed": false
   },
   "outputs": [
    {
     "data": {
      "text/plain": [
       "u'Attribute'"
      ]
     },
     "execution_count": 226,
     "metadata": {},
     "output_type": "execute_result"
    }
   ],
   "source": [
    "rand = random.choice(list(set(bad['objects'].keys()) - known_bad))\n",
    "AprtusSerialized.from_ref(bad, rand).root_proto_ref()"
   ]
  },
  {
   "cell_type": "code",
   "execution_count": 235,
   "metadata": {
    "collapsed": false
   },
   "outputs": [
    {
     "data": {
      "text/plain": [
       "<AprtusSerialized wrapping:>\n",
       "{u'__proto': {u'__ref': u'Group'},\n",
       " u'_children': [{u'__ref': u'idz7e23yiiknmvakdx'},\n",
       "                {u'__ref': u'iduc4j20iiknn0ude3'},\n",
       "                {u'__ref': u'ide0gt7hiiknn4p5ei'},\n",
       "                {u'__ref': u'id8w35n7iiknnbzeex'},\n",
       "                {u'__ref': u'idjc3sjhiiknnj70lk'}],\n",
       " u'_head': {u'__ref': u'idr0tbj9iiknmva8dw'},\n",
       " u'_isHatched': True,\n",
       " u'_master': {u'__ref': u'Group'},\n",
       " u'_parent': None,\n",
       " u'_variants': [],\n",
       " u'expanded': True,\n",
       " u'id': u'idr0tbj9iiknmva8dw',\n",
       " u'label': u'L4',\n",
       " u'viewMatrix': {u'__ref': u'id42ymhiiiknnr66s8'}}"
      ]
     },
     "execution_count": 235,
     "metadata": {},
     "output_type": "execute_result"
    }
   ],
   "source": [
    "goods['editingElement']"
   ]
  },
  {
   "cell_type": "code",
   "execution_count": 273,
   "metadata": {
    "collapsed": true
   },
   "outputs": [],
   "source": [
    "import networkx as nx\n",
    "\n",
    "def node_to_graph(node):\n",
    "    G = nx.Graph()\n",
    "    added_nodes = set()\n",
    "    def add_node(node):\n",
    "        if node.ref in added_nodes:\n",
    "            return\n",
    "        added_nodes.add(node.ref)\n",
    "\n",
    "        parent = node.get('_parent')\n",
    "        if parent:\n",
    "            G.add_edge(node.ref, parent.ref, kind='parent')\n",
    "            add_node(parent)\n",
    "        children = node.get('_children')\n",
    "        if children:\n",
    "            for child in children:\n",
    "                G.add_edge(node.ref, child.ref, kind='child')\n",
    "                add_node(child)\n",
    "\n",
    "        master = node.get('_master')\n",
    "        if master:\n",
    "            G.add_edge(node.ref, master.ref, kind='master')\n",
    "            add_node(master)\n",
    "        variants = node.get('_variants')\n",
    "        if variants:\n",
    "            for variant in variants:\n",
    "                G.add_edge(node.ref, variant.ref, kind='variant')\n",
    "                add_node(variant)\n",
    "    add_node(node)\n",
    "    return G"
   ]
  },
  {
   "cell_type": "code",
   "execution_count": 275,
   "metadata": {
    "collapsed": false
   },
   "outputs": [],
   "source": [
    "import sys\n",
    "sys.setrecursionlimit(7000)\n",
    "\n",
    "goodg = node_to_graph(goods['editingElement'])\n",
    "badg = node_to_graph(bads['editingElement'])"
   ]
  },
  {
   "cell_type": "code",
   "execution_count": 276,
   "metadata": {
    "collapsed": false
   },
   "outputs": [
    {
     "data": {
      "text/plain": [
       "6109"
      ]
     },
     "execution_count": 276,
     "metadata": {},
     "output_type": "execute_result"
    }
   ],
   "source": [
    "len(badg.nodes())"
   ]
  },
  {
   "cell_type": "code",
   "execution_count": 268,
   "metadata": {
    "collapsed": false
   },
   "outputs": [
    {
     "data": {
      "text/plain": [
       "1"
      ]
     },
     "execution_count": 268,
     "metadata": {},
     "output_type": "execute_result"
    }
   ],
   "source": [
    "len(list(nx.connected_components(goodg)))"
   ]
  },
  {
   "cell_type": "code",
   "execution_count": 279,
   "metadata": {
    "collapsed": false
   },
   "outputs": [
    {
     "data": {
      "text/plain": [
       "u'idr0tbj9iiknmva8dw'"
      ]
     },
     "execution_count": 279,
     "metadata": {},
     "output_type": "execute_result"
    }
   ],
   "source": [
    "goods['editingElement'].ref"
   ]
  },
  {
   "cell_type": "code",
   "execution_count": 286,
   "metadata": {
    "collapsed": false
   },
   "outputs": [],
   "source": [
    "goodp = nx.shortest_path(goodg, goods['editingElement'].ref)\n",
    "badp = nx.shortest_path(badg, bads['editingElement'].ref)"
   ]
  },
  {
   "cell_type": "code",
   "execution_count": 303,
   "metadata": {
    "collapsed": false
   },
   "outputs": [
    {
     "name": "stdout",
     "output_type": "stream",
     "text": [
      "1      1\n",
      "2      7\n",
      "3     27\n",
      "4     86\n",
      "5    187\n",
      "6    314\n",
      "7    311\n",
      "8     76\n",
      "dtype: int64\n",
      "1       1\n",
      "2       8\n",
      "3     157\n",
      "4     460\n",
      "5     941\n",
      "6    1241\n",
      "7    1495\n",
      "8    1266\n",
      "9     540\n",
      "dtype: int64\n"
     ]
    }
   ],
   "source": [
    "import pandas as pd\n",
    "print pd.Series(len(v) for (k, v) in goodp.iteritems()).value_counts().sort_index()\n",
    "print pd.Series(len(v) for (k, v) in badp.iteritems()).value_counts().sort_index()"
   ]
  },
  {
   "cell_type": "code",
   "execution_count": 310,
   "metadata": {
    "collapsed": false
   },
   "outputs": [
    {
     "name": "stdout",
     "output_type": "stream",
     "text": [
      "{u'Circle': [u'idr0tbj9iiknmva8dw', u'iduc4j20iiknn0ude3', u'Circle'],\n",
      " u'Text': [u'idr0tbj9iiknmva8dw', u'ide0gt7hiiknn4p5ei', u'Text'],\n",
      " u'id02ns7jiiknkh2m3': [u'idr0tbj9iiknmva8dw', u'Group', u'id02ns7jiiknkh2m3'],\n",
      " u'id0kyk39iiknlvfq75': [u'idr0tbj9iiknmva8dw',\n",
      "                         u'Group',\n",
      "                         u'id0kyk39iiknlvfq75'],\n",
      " u'id1w9rpziiknnf2cjq': [u'idr0tbj9iiknmva8dw',\n",
      "                         u'id8w35n7iiknnbzeex',\n",
      "                         u'id1w9rpziiknnf2cjq'],\n",
      " u'id2yxf3xiiknnlwuly': [u'idr0tbj9iiknmva8dw',\n",
      "                         u'idjc3sjhiiknnj70lk',\n",
      "                         u'id2yxf3xiiknnlwuly'],\n",
      " u'id3nop9miiknkh280': [u'idr0tbj9iiknmva8dw', u'Group', u'id3nop9miiknkh280'],\n",
      " u'id43d5tiiiknmvamdy': [u'idr0tbj9iiknmva8dw',\n",
      "                         u'idz7e23yiiknmvakdx',\n",
      "                         u'id43d5tiiiknmvamdy'],\n",
      " u'id5eusu2iiknnlwxmq': [u'idr0tbj9iiknmva8dw',\n",
      "                         u'idjc3sjhiiknnj70lk',\n",
      "                         u'id5eusu2iiknnlwxmq'],\n",
      " u'id5oxf78iiknmvavdz': [u'idr0tbj9iiknmva8dw',\n",
      "                         u'idz7e23yiiknmvakdx',\n",
      "                         u'id5oxf78iiknmvavdz'],\n",
      " u'id6r9npeiiknnbzhey': [u'idr0tbj9iiknmva8dw',\n",
      "                         u'id8w35n7iiknnbzeex',\n",
      "                         u'id6r9npeiiknnbzhey'],\n",
      " u'id8intn1iiknnj73ll': [u'idr0tbj9iiknmva8dw',\n",
      "                         u'idjc3sjhiiknnj70lk',\n",
      "                         u'id8intn1iiknnj73ll'],\n",
      " u'id8rwgkciiknmvawe1': [u'idr0tbj9iiknmva8dw',\n",
      "                         u'idz7e23yiiknmvakdx',\n",
      "                         u'id8rwgkciiknmvawe1'],\n",
      " u'id9sjndriiknnlxapu': [u'idr0tbj9iiknmva8dw',\n",
      "                         u'idjc3sjhiiknnj70lk',\n",
      "                         u'id9sjndriiknnlxapu'],\n",
      " u'idd3y5a8iiknn0uge5': [u'idr0tbj9iiknmva8dw',\n",
      "                         u'iduc4j20iiknn0ude3',\n",
      "                         u'idd3y5a8iiknn0uge5'],\n",
      " u'idepa1vfiiknl20u45': [u'idr0tbj9iiknmva8dw',\n",
      "                         u'Group',\n",
      "                         u'idepa1vfiiknl20u45'],\n",
      " u'idjlkjg4iiknn4p8ek': [u'idr0tbj9iiknmva8dw',\n",
      "                         u'ide0gt7hiiknn4p5ei',\n",
      "                         u'idjlkjg4iiknn4p8ek'],\n",
      " u'idmcc8zwiiknn0uge7': [u'idr0tbj9iiknmva8dw',\n",
      "                         u'iduc4j20iiknn0ude3',\n",
      "                         u'idmcc8zwiiknn0uge7'],\n",
      " u'ids6oslxiiknmvawe0': [u'idr0tbj9iiknmva8dw',\n",
      "                         u'idz7e23yiiknmvakdx',\n",
      "                         u'ids6oslxiiknmvawe0'],\n",
      " u'idt1qlo2iiknn0uge4': [u'idr0tbj9iiknmva8dw',\n",
      "                         u'iduc4j20iiknn0ude3',\n",
      "                         u'idt1qlo2iiknn0uge4'],\n",
      " u'idtb84nxiiknnf1xfa': [u'idr0tbj9iiknmva8dw',\n",
      "                         u'id8w35n7iiknnbzeex',\n",
      "                         u'idtb84nxiiknnf1xfa'],\n",
      " u'idufd3k1iiknnlx1nu': [u'idr0tbj9iiknmva8dw',\n",
      "                         u'idjc3sjhiiknnj70lk',\n",
      "                         u'idufd3k1iiknnlx1nu'],\n",
      " u'idv4g2s6iiknn0uge6': [u'idr0tbj9iiknmva8dw',\n",
      "                         u'iduc4j20iiknn0ude3',\n",
      "                         u'idv4g2s6iiknn0uge6'],\n",
      " u'idx1jlc8iiknmvaye2': [u'idr0tbj9iiknmva8dw',\n",
      "                         u'idz7e23yiiknmvakdx',\n",
      "                         u'idx1jlc8iiknmvaye2'],\n",
      " u'idytg9dfiiknnf22gt': [u'idr0tbj9iiknmva8dw',\n",
      "                         u'id8w35n7iiknnbzeex',\n",
      "                         u'idytg9dfiiknnf22gt'],\n",
      " u'idywancmiiknnf1xf9': [u'idr0tbj9iiknmva8dw',\n",
      "                         u'id8w35n7iiknnbzeex',\n",
      "                         u'idywancmiiknnf1xf9'],\n",
      " u'idzcjh3liiknn4p8ej': [u'idr0tbj9iiknmva8dw',\n",
      "                         u'ide0gt7hiiknn4p5ei',\n",
      "                         u'idzcjh3liiknn4p8ej']}\n"
     ]
    }
   ],
   "source": [
    "pprint({k: v for (k, v) in goodp.iteritems() if len(v) == 3})"
   ]
  },
  {
   "cell_type": "code",
   "execution_count": 304,
   "metadata": {
    "collapsed": false
   },
   "outputs": [
    {
     "data": {
      "text/plain": [
       "<AprtusSerialized wrapping:>\n",
       "{u'__proto': {u'__ref': u'Group'},\n",
       " u'_children': [{u'__ref': u'idz7e23yiiknmvakdx'},\n",
       "                {u'__ref': u'iduc4j20iiknn0ude3'},\n",
       "                {u'__ref': u'ide0gt7hiiknn4p5ei'},\n",
       "                {u'__ref': u'id8w35n7iiknnbzeex'},\n",
       "                {u'__ref': u'idjc3sjhiiknnj70lk'}],\n",
       " u'_head': {u'__ref': u'idr0tbj9iiknmva8dw'},\n",
       " u'_isHatched': True,\n",
       " u'_master': {u'__ref': u'Group'},\n",
       " u'_parent': None,\n",
       " u'_variants': [],\n",
       " u'expanded': True,\n",
       " u'id': u'idr0tbj9iiknmva8dw',\n",
       " u'label': u'L4',\n",
       " u'viewMatrix': {u'__ref': u'id42ymhiiiknnr66s8'}}"
      ]
     },
     "execution_count": 304,
     "metadata": {},
     "output_type": "execute_result"
    }
   ],
   "source": [
    "goods['editingElement']"
   ]
  },
  {
   "cell_type": "code",
   "execution_count": 305,
   "metadata": {
    "collapsed": false
   },
   "outputs": [
    {
     "data": {
      "text/plain": [
       "<AprtusSerialized wrapping:>\n",
       "{u'__proto': {u'__ref': u'Group'},\n",
       " u'_children': [{u'__ref': u'idg4eemuiijy9nnh1pp'},\n",
       "                {u'__ref': u'id63ukz9iijy9ro81pw'},\n",
       "                {u'__ref': u'id4zihvniijya37m3yr'},\n",
       "                {u'__ref': u'idgttl2tiijydzaf45d'},\n",
       "                {u'__ref': u'idznagltiijyhzmv4pu'}],\n",
       " u'_head': {u'__ref': u'idg7ytnfiijy9nn71po'},\n",
       " u'_isHatched': True,\n",
       " u'_master': {u'__ref': u'Group'},\n",
       " u'_parent': None,\n",
       " u'_variants': [{u'__ref': u'id43eo0liijy9tqa1u7'}],\n",
       " u'expanded': True,\n",
       " u'id': u'idg7ytnfiijy9nn71po',\n",
       " u'label': u'4',\n",
       " u'viewMatrix': {u'__ref': u'idi2opm2iijyfjxy48p'}}"
      ]
     },
     "execution_count": 305,
     "metadata": {},
     "output_type": "execute_result"
    }
   ],
   "source": [
    "bads['editingElement']"
   ]
  },
  {
   "cell_type": "code",
   "execution_count": 307,
   "metadata": {
    "collapsed": false
   },
   "outputs": [
    {
     "data": {
      "text/plain": [
       "<AprtusSerialized wrapping:>\n",
       "{u'__proto': {u'__ref': u'idg7ytnfiijy9nn71po'},\n",
       " u'_children': [{u'__ref': u'idz8bzuriijy9tqc1u8'},\n",
       "                {u'__ref': u'idbptn71iijy9uyt1vh'},\n",
       "                {u'__ref': u'idiurb3hiijya5403yz'},\n",
       "                {u'__ref': u'idqtankliijye0mq45r'},\n",
       "                {u'__ref': u'idyguqf2iijyi1rk4q7'}],\n",
       " u'_head': {u'__ref': u'id43eo0liijy9tqa1u7'},\n",
       " u'_isHatched': True,\n",
       " u'_master': {u'__ref': u'idg7ytnfiijy9nn71po'},\n",
       " u'_parent': None,\n",
       " u'_variants': [{u'__ref': u'idpnlb0jiijy9uyp1ue'}],\n",
       " u'expanded': False,\n",
       " u'id': u'id43eo0liijy9tqa1u7'}"
      ]
     },
     "execution_count": 307,
     "metadata": {},
     "output_type": "execute_result"
    }
   ],
   "source": [
    "bads['editingElement']['_variants'][0]"
   ]
  },
  {
   "cell_type": "code",
   "execution_count": null,
   "metadata": {
    "collapsed": true
   },
   "outputs": [],
   "source": [
    "good = ujson.load(open('GOOD.json'))\n",
    "bad = ujson.load(open('BAD.json'))\n",
    "\n",
    "goods = AprtusSerialized(good)\n",
    "bads = AprtusSerialized(bad)"
   ]
  }
 ],
 "metadata": {
  "kernelspec": {
   "display_name": "Python 2",
   "language": "python",
   "name": "python2"
  },
  "language_info": {
   "codemirror_mode": {
    "name": "ipython",
    "version": 2
   },
   "file_extension": ".py",
   "mimetype": "text/x-python",
   "name": "python",
   "nbconvert_exporter": "python",
   "pygments_lexer": "ipython2",
   "version": "2.7.11"
  }
 },
 "nbformat": 4,
 "nbformat_minor": 0
}
